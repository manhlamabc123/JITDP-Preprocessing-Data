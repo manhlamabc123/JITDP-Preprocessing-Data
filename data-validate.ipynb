{
 "cells": [
  {
   "attachments": {},
   "cell_type": "markdown",
   "metadata": {},
   "source": [
    "# What this file does ?\n",
    "\n",
    "- Debug print\n",
    "\n",
    "## Directories\n",
    "- `data\\{project_name}`: Yet preprocessed data here\n",
    "- `data\\{project_name}\\clean`: Preprocessed data here\n",
    "- `{project_name}_(train/test)_(dextend).pkl`: commit data name\n",
    "- `{project_name}_feature_(train/test).pkl`: feature data name\n",
    "- `{project_name}_dict.pkl`: dictionary name"
   ]
  },
  {
   "attachments": {},
   "cell_type": "markdown",
   "metadata": {},
   "source": [
    "### Import libraries"
   ]
  },
  {
   "cell_type": "code",
   "execution_count": 1,
   "metadata": {},
   "outputs": [],
   "source": [
    "import numpy as np\n",
    "import pickle"
   ]
  },
  {
   "attachments": {},
   "cell_type": "markdown",
   "metadata": {},
   "source": [
    "### Load train/test-set and dictionary"
   ]
  },
  {
   "cell_type": "code",
   "execution_count": 5,
   "metadata": {},
   "outputs": [],
   "source": [
    "project_name = 'moment'\n",
    "\n",
    "train = pickle.load(open(f'data/{project_name}/clean/{project_name}_train.pkl', 'rb'))\n",
    "deepjit_train = pickle.load(open(f'data/{project_name}/clean/{project_name}_train_dextend.pkl', 'rb'))\n",
    "test = pickle.load(open(f'data/{project_name}/clean/{project_name}_test.pkl', 'rb'))\n",
    "dictionary = pickle.load(open(f\"data/{project_name}/clean/{project_name}_dict.pkl\", 'rb'))"
   ]
  },
  {
   "cell_type": "code",
   "execution_count": 6,
   "metadata": {},
   "outputs": [],
   "source": [
    "train_ids, train_messages, train_commits, train_labels = train\n",
    "deepjit_train_ids, deepjit_train_messages, deepjit_train_commits, deepjit_train_labels = deepjit_train\n",
    "test_ids, test_messages, test_commits, test_labels = test"
   ]
  },
  {
   "cell_type": "code",
   "execution_count": 11,
   "metadata": {},
   "outputs": [
    {
     "data": {
      "text/plain": [
       "[{'added_code': [\"m : [ 'Ñ\\x98ÐµÐ´Ð°Ð½ Ð¼Ð¸Ð½Ñ\\x83Ñ\\x82' , 'Ñ\\x98ÐµÐ´Ð½Ð¾Ð³ Ð¼Ð¸Ð½Ñ\\x83Ñ\\x82Ð°' ] , mm : [ 'Ð¼Ð¸Ð½Ñ\\x83Ñ\\x82' , 'Ð¼Ð¸Ð½Ñ\\x83Ñ\\x82Ð°' , 'Ð¼Ð¸Ð½Ñ\\x83Ñ\\x82Ð°' ] , d : [ 'Ñ\\x98ÐµÐ´Ð°Ð½ Ð´Ð°Ð½' , 'Ñ\\x98ÐµÐ´Ð½Ð¾Ð³ Ð´Ð°Ð½Ð°' ] , M : [ 'Ñ\\x98ÐµÐ´Ð°Ð½ Ð¼ÐµÑ\\x81ÐµÑ\\x86' , 'Ñ\\x98ÐµÐ´Ð½Ð¾Ð³ Ð¼ÐµÑ\\x81ÐµÑ\\x86Ð°' ] , y : [ 'Ñ\\x98ÐµÐ´Ð½Ñ\\x83 Ð³Ð¾Ð´Ð¸Ð½Ñ\\x83' , 'Ñ\\x98ÐµÐ´Ð½Ðµ Ð³Ð¾Ð´Ð¸Ð½Ðµ' ] , yy : [ 'Ð³Ð¾Ð´Ð¸Ð½Ñ\\x83' , 'Ð³Ð¾Ð´Ð¸Ð½Ðµ' , 'Ð³Ð¾Ð´Ð¸Ð½Ð°' ] , if ( number % 10 > = 1 & & number % 10 < = 4 & & ( number % 100 < 10 | | number % 100 > = 20 ) ) { return number % 10 = = = 1 ? wordKey [ 0 ] : wordKey [ 1 ] } return wordKey [ 2 ] translate : function ( number , withoutSuffix , key , isFuture ) { / / Nominativ if ( key = = = 'y' & & withoutSuffix ) return 'Ñ\\x98ÐµÐ´Ð½Ð° Ð³Ð¾Ð´Ð¸Ð½Ð°' return isFuture | | withoutSuffix ? wordKey [ 0 ] : wordKey [ 1 ] ; const word = translator . correctGrammaticalCase ( number , wordKey ) / / Nominativ if ( key = = = 'yy' & & withoutSuffix & & word = = = 'Ð³Ð¾Ð´Ð¸Ð½Ñ\\x83' ) { return ( number + ' Ð³Ð¾Ð´Ð¸Ð½Ð°' ) } return ( number + ' ' + word ) ;\",\n",
       "   'd : translator . translate , M : translator . translate , y : translator . translate ,'],\n",
       "  'removed_code': [\"m : [ 'Ñ\\x98ÐµÐ´Ð°Ð½ Ð¼Ð¸Ð½Ñ\\x83Ñ\\x82' , 'Ñ\\x98ÐµÐ´Ð½Ðµ Ð¼Ð¸Ð½Ñ\\x83Ñ\\x82Ðµ' ] , mm : [ 'Ð¼Ð¸Ð½Ñ\\x83Ñ\\x82' , 'Ð¼Ð¸Ð½Ñ\\x83Ñ\\x82Ðµ' , 'Ð¼Ð¸Ð½Ñ\\x83Ñ\\x82Ð°' ] , yy : [ 'Ð³Ð¾Ð´Ð¸Ð½Ð°' , 'Ð³Ð¾Ð´Ð¸Ð½Ðµ' , 'Ð³Ð¾Ð´Ð¸Ð½Ð°' ] , return number = = = 1 ? wordKey [ 0 ] : number > = 2 & & number < = 4 ? wordKey [ 1 ] : wordKey [ 2 ] ; translate : function ( number , withoutSuffix , key ) { return withoutSuffix ? wordKey [ 0 ] : wordKey [ 1 ] ; } else { return ( number + ' ' + translator . correctGrammaticalCase ( number , wordKey ) ) ;\",\n",
       "   \"d : 'Ð´Ð°Ð½' , M : 'Ð¼ÐµÑ\\x81ÐµÑ\\x86' , y : 'Ð³Ð¾Ð´Ð¸Ð½Ñ\\x83' ,\"]},\n",
       " {'added_code': [\"import { without } from 'lodash' ;\",\n",
       "   \"m : [ 'jedan minut' , 'jednog minuta' ] , mm : [ 'minut' , 'minuta' , 'minuta' ] , d : [ 'jedan dan' , 'jednog dana' ] , M : [ 'jedan mesec' , 'jednog meseca' ] , y : [ 'jednu godinu' , 'jedne godine' ] , yy : [ 'godinu' , 'godine' , 'godina' ] , if ( number % 10 > = 1 & & number % 10 < = 4 & & ( number % 100 < 10 | | number % 100 > = 20 ) ) { return number % 10 = = = 1 ? wordKey [ 0 ] : wordKey [ 1 ] } return wordKey [ 2 ] translate : function ( number , withoutSuffix , key , isFuture ) { / / Nominativ if ( key = = = 'y' & & withoutSuffix ) return 'jedna godina' return isFuture | | withoutSuffix ? wordKey [ 0 ] : wordKey [ 1 ] ; const word = translator . correctGrammaticalCase ( number , wordKey ) / / Nominativ if ( key = = = 'yy' & & withoutSuffix & & word = = = 'godinu' ) { return ( number + ' godina' ) } return ( number + ' ' + word ) ;\",\n",
       "   'd : translator . translate , M : translator . translate , y : translator . translate ,'],\n",
       "  'removed_code': ['',\n",
       "   \"m : [ 'jedan minut' , 'jedne minute' ] , mm : [ 'minut' , 'minute' , 'minuta' ] , yy : [ 'godina' , 'godine' , 'godina' ] , return number = = = 1 ? wordKey [ 0 ] : number > = 2 & & number < = 4 ? wordKey [ 1 ] : wordKey [ 2 ] ; translate : function ( number , withoutSuffix , key ) { return withoutSuffix ? wordKey [ 0 ] : wordKey [ 1 ] ; } else { return ( number + ' ' + translator . correctGrammaticalCase ( number , wordKey ) ) ;\",\n",
       "   \"d : 'dan' , M : 'mesec' , y : 'godinu' ,\"]},\n",
       " {'added_code': [\"'2 Ð¼Ð¸Ð½Ñ\\x83Ñ\\x82Ð°' ,\",\n",
       "   \"'21 Ñ\\x81Ð°Ñ\\x82' , 'Ñ\\x98ÐµÐ´Ð°Ð½ Ð´Ð°Ð½' , 'Ñ\\x98ÐµÐ´Ð°Ð½ Ð´Ð°Ð½' ,\",\n",
       "   \"'Ñ\\x98ÐµÐ´Ð°Ð½ Ð´Ð°Ð½' ,\",\n",
       "   \"'Ñ\\x98ÐµÐ´Ð°Ð½ Ð¼ÐµÑ\\x81ÐµÑ\\x86' , 'Ñ\\x98ÐµÐ´Ð°Ð½ Ð¼ÐµÑ\\x81ÐµÑ\\x86' , 'Ñ\\x98ÐµÐ´Ð°Ð½ Ð¼ÐµÑ\\x81ÐµÑ\\x86' ,\",\n",
       "   \"'Ñ\\x98ÐµÐ´Ð°Ð½ Ð¼ÐµÑ\\x81ÐµÑ\\x86' ,\",\n",
       "   \"'Ñ\\x98ÐµÐ´Ð½Ð° Ð³Ð¾Ð´Ð¸Ð½Ð°' ,\",\n",
       "   \"'Ñ\\x98ÐµÐ´Ð½Ð° Ð³Ð¾Ð´Ð¸Ð½Ð°' ,\"],\n",
       "  'removed_code': [\"'2 Ð¼Ð¸Ð½Ñ\\x83Ñ\\x82Ðµ' ,\",\n",
       "   \"'21 Ñ\\x81Ð°Ñ\\x82Ð¸' , 'Ð´Ð°Ð½' , 'Ð´Ð°Ð½' ,\",\n",
       "   \"'Ð´Ð°Ð½' ,\",\n",
       "   \"'Ð¼ÐµÑ\\x81ÐµÑ\\x86' , 'Ð¼ÐµÑ\\x81ÐµÑ\\x86' , 'Ð¼ÐµÑ\\x81ÐµÑ\\x86' ,\",\n",
       "   \"'Ð¼ÐµÑ\\x81ÐµÑ\\x86' ,\",\n",
       "   \"'Ð³Ð¾Ð´Ð¸Ð½Ñ\\x83' ,\",\n",
       "   \"'Ð³Ð¾Ð´Ð¸Ð½Ñ\\x83' ,\"]},\n",
       " {'added_code': [\"'2 minuta' ,\",\n",
       "   \"'21 sat' , 'jedan dan' , 'jedan dan' ,\",\n",
       "   \"'jedan dan' ,\",\n",
       "   \"'jedan mesec' , 'jedan mesec' , 'jedan mesec' ,\",\n",
       "   \"'jedan mesec' ,\",\n",
       "   \"'jedna godina' ,\",\n",
       "   \"'jedna godina' ,\"],\n",
       "  'removed_code': [\"'2 minute' ,\",\n",
       "   \"'21 sati' , 'dan' , 'dan' ,\",\n",
       "   \"'dan' ,\",\n",
       "   \"'mesec' , 'mesec' , 'mesec' ,\",\n",
       "   \"'mesec' ,\",\n",
       "   \"'godinu' ,\",\n",
       "   \"'godinu' ,\"]}]"
      ]
     },
     "execution_count": 11,
     "metadata": {},
     "output_type": "execute_result"
    }
   ],
   "source": [
    "train_commits[6]"
   ]
  },
  {
   "cell_type": "code",
   "execution_count": 12,
   "metadata": {},
   "outputs": [
    {
     "data": {
      "text/plain": [
       "[\"m : [ 'Ñ\\x98ÐµÐ´Ð°Ð½ Ð¼Ð¸Ð½Ñ\\x83Ñ\\x82' , 'Ñ\\x98ÐµÐ´Ð½Ð¾Ð³ Ð¼Ð¸Ð½Ñ\\x83Ñ\\x82Ð°' ] , mm : [ 'Ð¼Ð¸Ð½Ñ\\x83Ñ\\x82' , 'Ð¼Ð¸Ð½Ñ\\x83Ñ\\x82Ð°' , 'Ð¼Ð¸Ð½Ñ\\x83Ñ\\x82Ð°' ] , d : [ 'Ñ\\x98ÐµÐ´Ð°Ð½ Ð´Ð°Ð½' , 'Ñ\\x98ÐµÐ´Ð½Ð¾Ð³ Ð´Ð°Ð½Ð°' ] , M : [ 'Ñ\\x98ÐµÐ´Ð°Ð½ Ð¼ÐµÑ\\x81ÐµÑ\\x86' , 'Ñ\\x98ÐµÐ´Ð½Ð¾Ð³ Ð¼ÐµÑ\\x81ÐµÑ\\x86Ð°' ] , y : [ 'Ñ\\x98ÐµÐ´Ð½Ñ\\x83 Ð³Ð¾Ð´Ð¸Ð½Ñ\\x83' , 'Ñ\\x98ÐµÐ´Ð½Ðµ Ð³Ð¾Ð´Ð¸Ð½Ðµ' ] , yy : [ 'Ð³Ð¾Ð´Ð¸Ð½Ñ\\x83' , 'Ð³Ð¾Ð´Ð¸Ð½Ðµ' , 'Ð³Ð¾Ð´Ð¸Ð½Ð°' ] , if ( number % 10 > = 1 & & number % 10 < = 4 & & ( number % 100 < 10 | | number % 100 > = 20 ) ) { return number % 10 = = = 1 ? wordKey [ 0 ] : wordKey [ 1 ] } return wordKey [ 2 ] translate : function ( number , withoutSuffix , key , isFuture ) { / / Nominativ if ( key = = = 'y' & & withoutSuffix ) return 'Ñ\\x98ÐµÐ´Ð½Ð° Ð³Ð¾Ð´Ð¸Ð½Ð°' return isFuture | | withoutSuffix ? wordKey [ 0 ] : wordKey [ 1 ] ; const word = translator . correctGrammaticalCase ( number , wordKey ) / / Nominativ if ( key = = = 'yy' & & withoutSuffix & & word = = = 'Ð³Ð¾Ð´Ð¸Ð½Ñ\\x83' ) { return ( number + ' Ð³Ð¾Ð´Ð¸Ð½Ð°' ) } return ( number + ' ' + word ) ;\",\n",
       " \"m : [ 'Ñ\\x98ÐµÐ´Ð°Ð½ Ð¼Ð¸Ð½Ñ\\x83Ñ\\x82' , 'Ñ\\x98ÐµÐ´Ð½Ðµ Ð¼Ð¸Ð½Ñ\\x83Ñ\\x82Ðµ' ] , mm : [ 'Ð¼Ð¸Ð½Ñ\\x83Ñ\\x82' , 'Ð¼Ð¸Ð½Ñ\\x83Ñ\\x82Ðµ' , 'Ð¼Ð¸Ð½Ñ\\x83Ñ\\x82Ð°' ] , yy : [ 'Ð³Ð¾Ð´Ð¸Ð½Ð°' , 'Ð³Ð¾Ð´Ð¸Ð½Ðµ' , 'Ð³Ð¾Ð´Ð¸Ð½Ð°' ] , return number = = = 1 ? wordKey [ 0 ] : number > = 2 & & number < = 4 ? wordKey [ 1 ] : wordKey [ 2 ] ; translate : function ( number , withoutSuffix , key ) { return withoutSuffix ? wordKey [ 0 ] : wordKey [ 1 ] ; } else { return ( number + ' ' + translator . correctGrammaticalCase ( number , wordKey ) ) ;\",\n",
       " 'd : translator . translate , M : translator . translate , y : translator . translate ,',\n",
       " \"d : 'Ð´Ð°Ð½' , M : 'Ð¼ÐµÑ\\x81ÐµÑ\\x86' , y : 'Ð³Ð¾Ð´Ð¸Ð½Ñ\\x83' ,\",\n",
       " \"import { without } from 'lodash' ;\",\n",
       " '',\n",
       " \"m : [ 'jedan minut' , 'jednog minuta' ] , mm : [ 'minut' , 'minuta' , 'minuta' ] , d : [ 'jedan dan' , 'jednog dana' ] , M : [ 'jedan mesec' , 'jednog meseca' ] , y : [ 'jednu godinu' , 'jedne godine' ] , yy : [ 'godinu' , 'godine' , 'godina' ] , if ( number % 10 > = 1 & & number % 10 < = 4 & & ( number % 100 < 10 | | number % 100 > = 20 ) ) { return number % 10 = = = 1 ? wordKey [ 0 ] : wordKey [ 1 ] } return wordKey [ 2 ] translate : function ( number , withoutSuffix , key , isFuture ) { / / Nominativ if ( key = = = 'y' & & withoutSuffix ) return 'jedna godina' return isFuture | | withoutSuffix ? wordKey [ 0 ] : wordKey [ 1 ] ; const word = translator . correctGrammaticalCase ( number , wordKey ) / / Nominativ if ( key = = = 'yy' & & withoutSuffix & & word = = = 'godinu' ) { return ( number + ' godina' ) } return ( number + ' ' + word ) ;\",\n",
       " \"m : [ 'jedan minut' , 'jedne minute' ] , mm : [ 'minut' , 'minute' , 'minuta' ] , yy : [ 'godina' , 'godine' , 'godina' ] , return number = = = 1 ? wordKey [ 0 ] : number > = 2 & & number < = 4 ? wordKey [ 1 ] : wordKey [ 2 ] ; translate : function ( number , withoutSuffix , key ) { return withoutSuffix ? wordKey [ 0 ] : wordKey [ 1 ] ; } else { return ( number + ' ' + translator . correctGrammaticalCase ( number , wordKey ) ) ;\",\n",
       " 'd : translator . translate , M : translator . translate , y : translator . translate ,',\n",
       " \"d : 'dan' , M : 'mesec' , y : 'godinu' ,\",\n",
       " \"'2 Ð¼Ð¸Ð½Ñ\\x83Ñ\\x82Ð°' ,\",\n",
       " \"'2 Ð¼Ð¸Ð½Ñ\\x83Ñ\\x82Ðµ' ,\",\n",
       " \"'21 Ñ\\x81Ð°Ñ\\x82' , 'Ñ\\x98ÐµÐ´Ð°Ð½ Ð´Ð°Ð½' , 'Ñ\\x98ÐµÐ´Ð°Ð½ Ð´Ð°Ð½' ,\",\n",
       " \"'21 Ñ\\x81Ð°Ñ\\x82Ð¸' , 'Ð´Ð°Ð½' , 'Ð´Ð°Ð½' ,\",\n",
       " \"'Ñ\\x98ÐµÐ´Ð°Ð½ Ð´Ð°Ð½' ,\",\n",
       " \"'Ð´Ð°Ð½' ,\",\n",
       " \"'Ñ\\x98ÐµÐ´Ð°Ð½ Ð¼ÐµÑ\\x81ÐµÑ\\x86' , 'Ñ\\x98ÐµÐ´Ð°Ð½ Ð¼ÐµÑ\\x81ÐµÑ\\x86' , 'Ñ\\x98ÐµÐ´Ð°Ð½ Ð¼ÐµÑ\\x81ÐµÑ\\x86' ,\",\n",
       " \"'Ð¼ÐµÑ\\x81ÐµÑ\\x86' , 'Ð¼ÐµÑ\\x81ÐµÑ\\x86' , 'Ð¼ÐµÑ\\x81ÐµÑ\\x86' ,\",\n",
       " \"'Ñ\\x98ÐµÐ´Ð°Ð½ Ð¼ÐµÑ\\x81ÐµÑ\\x86' ,\",\n",
       " \"'Ð¼ÐµÑ\\x81ÐµÑ\\x86' ,\",\n",
       " \"'Ñ\\x98ÐµÐ´Ð½Ð° Ð³Ð¾Ð´Ð¸Ð½Ð°' ,\",\n",
       " \"'Ð³Ð¾Ð´Ð¸Ð½Ñ\\x83' ,\",\n",
       " \"'Ñ\\x98ÐµÐ´Ð½Ð° Ð³Ð¾Ð´Ð¸Ð½Ð°' ,\",\n",
       " \"'Ð³Ð¾Ð´Ð¸Ð½Ñ\\x83' ,\",\n",
       " \"'2 minuta' ,\",\n",
       " \"'2 minute' ,\",\n",
       " \"'21 sat' , 'jedan dan' , 'jedan dan' ,\",\n",
       " \"'21 sati' , 'dan' , 'dan' ,\",\n",
       " \"'jedan dan' ,\",\n",
       " \"'dan' ,\",\n",
       " \"'jedan mesec' , 'jedan mesec' , 'jedan mesec' ,\",\n",
       " \"'mesec' , 'mesec' , 'mesec' ,\",\n",
       " \"'jedan mesec' ,\",\n",
       " \"'mesec' ,\",\n",
       " \"'jedna godina' ,\",\n",
       " \"'godinu' ,\",\n",
       " \"'jedna godina' ,\",\n",
       " \"'godinu' ,\"]"
      ]
     },
     "execution_count": 12,
     "metadata": {},
     "output_type": "execute_result"
    }
   ],
   "source": [
    "deepjit_train_commits[6]"
   ]
  }
 ],
 "metadata": {
  "kernelspec": {
   "display_name": "manh-simcom",
   "language": "python",
   "name": "python3"
  },
  "language_info": {
   "codemirror_mode": {
    "name": "ipython",
    "version": 3
   },
   "file_extension": ".py",
   "mimetype": "text/x-python",
   "name": "python",
   "nbconvert_exporter": "python",
   "pygments_lexer": "ipython3",
   "version": "3.9.12"
  },
  "orig_nbformat": 4
 },
 "nbformat": 4,
 "nbformat_minor": 2
}
